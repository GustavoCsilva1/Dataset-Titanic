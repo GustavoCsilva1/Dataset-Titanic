{
 "cells": [
  {
   "cell_type": "markdown",
   "id": "c8bfdedf",
   "metadata": {},
   "source": [
    "O objetivo desse notebook é realizar algumas analises e tirar alguns insights sobre o titanic relacionado aos passageiros e os sobreviventes."
   ]
  },
  {
   "cell_type": "code",
   "execution_count": 1,
   "id": "5d1a089c",
   "metadata": {},
   "outputs": [],
   "source": [
    "# importando as bibliotecas\n",
    "import pandas as pd\n",
    "import numpy as np\n",
    "import scipy.stats as stats\n",
    "import matplotlib.pyplot as plt\n",
    "import seaborn as sns"
   ]
  },
  {
   "cell_type": "code",
   "execution_count": 2,
   "id": "05df25d6",
   "metadata": {},
   "outputs": [],
   "source": [
    "# Importando o meu dataframe\n",
    "df = pd.read_csv('Titanic-Dataset.csv')"
   ]
  },
  {
   "cell_type": "markdown",
   "id": "a6029903",
   "metadata": {},
   "source": [
    "Após importar os dados, é uma boa prática trazer algumas informações sobre o conjunto de dados."
   ]
  },
  {
   "cell_type": "code",
   "execution_count": 3,
   "id": "555ad4d2",
   "metadata": {
    "scrolled": true
   },
   "outputs": [
    {
     "data": {
      "text/html": [
       "<div>\n",
       "<style scoped>\n",
       "    .dataframe tbody tr th:only-of-type {\n",
       "        vertical-align: middle;\n",
       "    }\n",
       "\n",
       "    .dataframe tbody tr th {\n",
       "        vertical-align: top;\n",
       "    }\n",
       "\n",
       "    .dataframe thead th {\n",
       "        text-align: right;\n",
       "    }\n",
       "</style>\n",
       "<table border=\"1\" class=\"dataframe\">\n",
       "  <thead>\n",
       "    <tr style=\"text-align: right;\">\n",
       "      <th></th>\n",
       "      <th>PassengerId</th>\n",
       "      <th>Survived</th>\n",
       "      <th>Pclass</th>\n",
       "      <th>Name</th>\n",
       "      <th>Sex</th>\n",
       "      <th>Age</th>\n",
       "      <th>SibSp</th>\n",
       "      <th>Parch</th>\n",
       "      <th>Ticket</th>\n",
       "      <th>Fare</th>\n",
       "      <th>Cabin</th>\n",
       "      <th>Embarked</th>\n",
       "    </tr>\n",
       "  </thead>\n",
       "  <tbody>\n",
       "    <tr>\n",
       "      <th>0</th>\n",
       "      <td>1</td>\n",
       "      <td>0</td>\n",
       "      <td>3</td>\n",
       "      <td>Braund, Mr. Owen Harris</td>\n",
       "      <td>male</td>\n",
       "      <td>22.0</td>\n",
       "      <td>1</td>\n",
       "      <td>0</td>\n",
       "      <td>A/5 21171</td>\n",
       "      <td>7.2500</td>\n",
       "      <td>NaN</td>\n",
       "      <td>S</td>\n",
       "    </tr>\n",
       "    <tr>\n",
       "      <th>1</th>\n",
       "      <td>2</td>\n",
       "      <td>1</td>\n",
       "      <td>1</td>\n",
       "      <td>Cumings, Mrs. John Bradley (Florence Briggs Th...</td>\n",
       "      <td>female</td>\n",
       "      <td>38.0</td>\n",
       "      <td>1</td>\n",
       "      <td>0</td>\n",
       "      <td>PC 17599</td>\n",
       "      <td>71.2833</td>\n",
       "      <td>C85</td>\n",
       "      <td>C</td>\n",
       "    </tr>\n",
       "    <tr>\n",
       "      <th>2</th>\n",
       "      <td>3</td>\n",
       "      <td>1</td>\n",
       "      <td>3</td>\n",
       "      <td>Heikkinen, Miss. Laina</td>\n",
       "      <td>female</td>\n",
       "      <td>26.0</td>\n",
       "      <td>0</td>\n",
       "      <td>0</td>\n",
       "      <td>STON/O2. 3101282</td>\n",
       "      <td>7.9250</td>\n",
       "      <td>NaN</td>\n",
       "      <td>S</td>\n",
       "    </tr>\n",
       "    <tr>\n",
       "      <th>3</th>\n",
       "      <td>4</td>\n",
       "      <td>1</td>\n",
       "      <td>1</td>\n",
       "      <td>Futrelle, Mrs. Jacques Heath (Lily May Peel)</td>\n",
       "      <td>female</td>\n",
       "      <td>35.0</td>\n",
       "      <td>1</td>\n",
       "      <td>0</td>\n",
       "      <td>113803</td>\n",
       "      <td>53.1000</td>\n",
       "      <td>C123</td>\n",
       "      <td>S</td>\n",
       "    </tr>\n",
       "    <tr>\n",
       "      <th>4</th>\n",
       "      <td>5</td>\n",
       "      <td>0</td>\n",
       "      <td>3</td>\n",
       "      <td>Allen, Mr. William Henry</td>\n",
       "      <td>male</td>\n",
       "      <td>35.0</td>\n",
       "      <td>0</td>\n",
       "      <td>0</td>\n",
       "      <td>373450</td>\n",
       "      <td>8.0500</td>\n",
       "      <td>NaN</td>\n",
       "      <td>S</td>\n",
       "    </tr>\n",
       "  </tbody>\n",
       "</table>\n",
       "</div>"
      ],
      "text/plain": [
       "   PassengerId  Survived  Pclass  \\\n",
       "0            1         0       3   \n",
       "1            2         1       1   \n",
       "2            3         1       3   \n",
       "3            4         1       1   \n",
       "4            5         0       3   \n",
       "\n",
       "                                                Name     Sex   Age  SibSp  \\\n",
       "0                            Braund, Mr. Owen Harris    male  22.0      1   \n",
       "1  Cumings, Mrs. John Bradley (Florence Briggs Th...  female  38.0      1   \n",
       "2                             Heikkinen, Miss. Laina  female  26.0      0   \n",
       "3       Futrelle, Mrs. Jacques Heath (Lily May Peel)  female  35.0      1   \n",
       "4                           Allen, Mr. William Henry    male  35.0      0   \n",
       "\n",
       "   Parch            Ticket     Fare Cabin Embarked  \n",
       "0      0         A/5 21171   7.2500   NaN        S  \n",
       "1      0          PC 17599  71.2833   C85        C  \n",
       "2      0  STON/O2. 3101282   7.9250   NaN        S  \n",
       "3      0            113803  53.1000  C123        S  \n",
       "4      0            373450   8.0500   NaN        S  "
      ]
     },
     "execution_count": 3,
     "metadata": {},
     "output_type": "execute_result"
    }
   ],
   "source": [
    "df.head()"
   ]
  },
  {
   "cell_type": "code",
   "execution_count": 4,
   "id": "05255183",
   "metadata": {},
   "outputs": [
    {
     "data": {
      "text/html": [
       "<div>\n",
       "<style scoped>\n",
       "    .dataframe tbody tr th:only-of-type {\n",
       "        vertical-align: middle;\n",
       "    }\n",
       "\n",
       "    .dataframe tbody tr th {\n",
       "        vertical-align: top;\n",
       "    }\n",
       "\n",
       "    .dataframe thead th {\n",
       "        text-align: right;\n",
       "    }\n",
       "</style>\n",
       "<table border=\"1\" class=\"dataframe\">\n",
       "  <thead>\n",
       "    <tr style=\"text-align: right;\">\n",
       "      <th></th>\n",
       "      <th>PassengerId</th>\n",
       "      <th>Survived</th>\n",
       "      <th>Pclass</th>\n",
       "      <th>Name</th>\n",
       "      <th>Sex</th>\n",
       "      <th>Age</th>\n",
       "      <th>SibSp</th>\n",
       "      <th>Parch</th>\n",
       "      <th>Ticket</th>\n",
       "      <th>Fare</th>\n",
       "      <th>Cabin</th>\n",
       "      <th>Embarked</th>\n",
       "    </tr>\n",
       "  </thead>\n",
       "  <tbody>\n",
       "    <tr>\n",
       "      <th>886</th>\n",
       "      <td>887</td>\n",
       "      <td>0</td>\n",
       "      <td>2</td>\n",
       "      <td>Montvila, Rev. Juozas</td>\n",
       "      <td>male</td>\n",
       "      <td>27.0</td>\n",
       "      <td>0</td>\n",
       "      <td>0</td>\n",
       "      <td>211536</td>\n",
       "      <td>13.00</td>\n",
       "      <td>NaN</td>\n",
       "      <td>S</td>\n",
       "    </tr>\n",
       "    <tr>\n",
       "      <th>887</th>\n",
       "      <td>888</td>\n",
       "      <td>1</td>\n",
       "      <td>1</td>\n",
       "      <td>Graham, Miss. Margaret Edith</td>\n",
       "      <td>female</td>\n",
       "      <td>19.0</td>\n",
       "      <td>0</td>\n",
       "      <td>0</td>\n",
       "      <td>112053</td>\n",
       "      <td>30.00</td>\n",
       "      <td>B42</td>\n",
       "      <td>S</td>\n",
       "    </tr>\n",
       "    <tr>\n",
       "      <th>888</th>\n",
       "      <td>889</td>\n",
       "      <td>0</td>\n",
       "      <td>3</td>\n",
       "      <td>Johnston, Miss. Catherine Helen \"Carrie\"</td>\n",
       "      <td>female</td>\n",
       "      <td>NaN</td>\n",
       "      <td>1</td>\n",
       "      <td>2</td>\n",
       "      <td>W./C. 6607</td>\n",
       "      <td>23.45</td>\n",
       "      <td>NaN</td>\n",
       "      <td>S</td>\n",
       "    </tr>\n",
       "    <tr>\n",
       "      <th>889</th>\n",
       "      <td>890</td>\n",
       "      <td>1</td>\n",
       "      <td>1</td>\n",
       "      <td>Behr, Mr. Karl Howell</td>\n",
       "      <td>male</td>\n",
       "      <td>26.0</td>\n",
       "      <td>0</td>\n",
       "      <td>0</td>\n",
       "      <td>111369</td>\n",
       "      <td>30.00</td>\n",
       "      <td>C148</td>\n",
       "      <td>C</td>\n",
       "    </tr>\n",
       "    <tr>\n",
       "      <th>890</th>\n",
       "      <td>891</td>\n",
       "      <td>0</td>\n",
       "      <td>3</td>\n",
       "      <td>Dooley, Mr. Patrick</td>\n",
       "      <td>male</td>\n",
       "      <td>32.0</td>\n",
       "      <td>0</td>\n",
       "      <td>0</td>\n",
       "      <td>370376</td>\n",
       "      <td>7.75</td>\n",
       "      <td>NaN</td>\n",
       "      <td>Q</td>\n",
       "    </tr>\n",
       "  </tbody>\n",
       "</table>\n",
       "</div>"
      ],
      "text/plain": [
       "     PassengerId  Survived  Pclass                                      Name  \\\n",
       "886          887         0       2                     Montvila, Rev. Juozas   \n",
       "887          888         1       1              Graham, Miss. Margaret Edith   \n",
       "888          889         0       3  Johnston, Miss. Catherine Helen \"Carrie\"   \n",
       "889          890         1       1                     Behr, Mr. Karl Howell   \n",
       "890          891         0       3                       Dooley, Mr. Patrick   \n",
       "\n",
       "        Sex   Age  SibSp  Parch      Ticket   Fare Cabin Embarked  \n",
       "886    male  27.0      0      0      211536  13.00   NaN        S  \n",
       "887  female  19.0      0      0      112053  30.00   B42        S  \n",
       "888  female   NaN      1      2  W./C. 6607  23.45   NaN        S  \n",
       "889    male  26.0      0      0      111369  30.00  C148        C  \n",
       "890    male  32.0      0      0      370376   7.75   NaN        Q  "
      ]
     },
     "execution_count": 4,
     "metadata": {},
     "output_type": "execute_result"
    }
   ],
   "source": [
    "df.tail()"
   ]
  },
  {
   "cell_type": "code",
   "execution_count": 5,
   "id": "f35a951e",
   "metadata": {
    "scrolled": false
   },
   "outputs": [
    {
     "name": "stdout",
     "output_type": "stream",
     "text": [
      "<class 'pandas.core.frame.DataFrame'>\n",
      "RangeIndex: 891 entries, 0 to 890\n",
      "Data columns (total 12 columns):\n",
      " #   Column       Non-Null Count  Dtype  \n",
      "---  ------       --------------  -----  \n",
      " 0   PassengerId  891 non-null    int64  \n",
      " 1   Survived     891 non-null    int64  \n",
      " 2   Pclass       891 non-null    int64  \n",
      " 3   Name         891 non-null    object \n",
      " 4   Sex          891 non-null    object \n",
      " 5   Age          714 non-null    float64\n",
      " 6   SibSp        891 non-null    int64  \n",
      " 7   Parch        891 non-null    int64  \n",
      " 8   Ticket       891 non-null    object \n",
      " 9   Fare         891 non-null    float64\n",
      " 10  Cabin        204 non-null    object \n",
      " 11  Embarked     889 non-null    object \n",
      "dtypes: float64(2), int64(5), object(5)\n",
      "memory usage: 83.7+ KB\n"
     ]
    }
   ],
   "source": [
    "df.info()"
   ]
  },
  {
   "cell_type": "code",
   "execution_count": 6,
   "id": "e62537f5",
   "metadata": {
    "scrolled": false
   },
   "outputs": [
    {
     "data": {
      "text/html": [
       "<div>\n",
       "<style scoped>\n",
       "    .dataframe tbody tr th:only-of-type {\n",
       "        vertical-align: middle;\n",
       "    }\n",
       "\n",
       "    .dataframe tbody tr th {\n",
       "        vertical-align: top;\n",
       "    }\n",
       "\n",
       "    .dataframe thead th {\n",
       "        text-align: right;\n",
       "    }\n",
       "</style>\n",
       "<table border=\"1\" class=\"dataframe\">\n",
       "  <thead>\n",
       "    <tr style=\"text-align: right;\">\n",
       "      <th></th>\n",
       "      <th>PassengerId</th>\n",
       "      <th>Survived</th>\n",
       "      <th>Pclass</th>\n",
       "      <th>Age</th>\n",
       "      <th>SibSp</th>\n",
       "      <th>Parch</th>\n",
       "      <th>Fare</th>\n",
       "    </tr>\n",
       "  </thead>\n",
       "  <tbody>\n",
       "    <tr>\n",
       "      <th>count</th>\n",
       "      <td>891.000000</td>\n",
       "      <td>891.000000</td>\n",
       "      <td>891.000000</td>\n",
       "      <td>714.000000</td>\n",
       "      <td>891.000000</td>\n",
       "      <td>891.000000</td>\n",
       "      <td>891.000000</td>\n",
       "    </tr>\n",
       "    <tr>\n",
       "      <th>mean</th>\n",
       "      <td>446.000000</td>\n",
       "      <td>0.383838</td>\n",
       "      <td>2.308642</td>\n",
       "      <td>29.699118</td>\n",
       "      <td>0.523008</td>\n",
       "      <td>0.381594</td>\n",
       "      <td>32.204208</td>\n",
       "    </tr>\n",
       "    <tr>\n",
       "      <th>std</th>\n",
       "      <td>257.353842</td>\n",
       "      <td>0.486592</td>\n",
       "      <td>0.836071</td>\n",
       "      <td>14.526497</td>\n",
       "      <td>1.102743</td>\n",
       "      <td>0.806057</td>\n",
       "      <td>49.693429</td>\n",
       "    </tr>\n",
       "    <tr>\n",
       "      <th>min</th>\n",
       "      <td>1.000000</td>\n",
       "      <td>0.000000</td>\n",
       "      <td>1.000000</td>\n",
       "      <td>0.420000</td>\n",
       "      <td>0.000000</td>\n",
       "      <td>0.000000</td>\n",
       "      <td>0.000000</td>\n",
       "    </tr>\n",
       "    <tr>\n",
       "      <th>25%</th>\n",
       "      <td>223.500000</td>\n",
       "      <td>0.000000</td>\n",
       "      <td>2.000000</td>\n",
       "      <td>20.125000</td>\n",
       "      <td>0.000000</td>\n",
       "      <td>0.000000</td>\n",
       "      <td>7.910400</td>\n",
       "    </tr>\n",
       "    <tr>\n",
       "      <th>50%</th>\n",
       "      <td>446.000000</td>\n",
       "      <td>0.000000</td>\n",
       "      <td>3.000000</td>\n",
       "      <td>28.000000</td>\n",
       "      <td>0.000000</td>\n",
       "      <td>0.000000</td>\n",
       "      <td>14.454200</td>\n",
       "    </tr>\n",
       "    <tr>\n",
       "      <th>75%</th>\n",
       "      <td>668.500000</td>\n",
       "      <td>1.000000</td>\n",
       "      <td>3.000000</td>\n",
       "      <td>38.000000</td>\n",
       "      <td>1.000000</td>\n",
       "      <td>0.000000</td>\n",
       "      <td>31.000000</td>\n",
       "    </tr>\n",
       "    <tr>\n",
       "      <th>max</th>\n",
       "      <td>891.000000</td>\n",
       "      <td>1.000000</td>\n",
       "      <td>3.000000</td>\n",
       "      <td>80.000000</td>\n",
       "      <td>8.000000</td>\n",
       "      <td>6.000000</td>\n",
       "      <td>512.329200</td>\n",
       "    </tr>\n",
       "  </tbody>\n",
       "</table>\n",
       "</div>"
      ],
      "text/plain": [
       "       PassengerId    Survived      Pclass         Age       SibSp  \\\n",
       "count   891.000000  891.000000  891.000000  714.000000  891.000000   \n",
       "mean    446.000000    0.383838    2.308642   29.699118    0.523008   \n",
       "std     257.353842    0.486592    0.836071   14.526497    1.102743   \n",
       "min       1.000000    0.000000    1.000000    0.420000    0.000000   \n",
       "25%     223.500000    0.000000    2.000000   20.125000    0.000000   \n",
       "50%     446.000000    0.000000    3.000000   28.000000    0.000000   \n",
       "75%     668.500000    1.000000    3.000000   38.000000    1.000000   \n",
       "max     891.000000    1.000000    3.000000   80.000000    8.000000   \n",
       "\n",
       "            Parch        Fare  \n",
       "count  891.000000  891.000000  \n",
       "mean     0.381594   32.204208  \n",
       "std      0.806057   49.693429  \n",
       "min      0.000000    0.000000  \n",
       "25%      0.000000    7.910400  \n",
       "50%      0.000000   14.454200  \n",
       "75%      0.000000   31.000000  \n",
       "max      6.000000  512.329200  "
      ]
     },
     "execution_count": 6,
     "metadata": {},
     "output_type": "execute_result"
    }
   ],
   "source": [
    "df.describe()"
   ]
  },
  {
   "cell_type": "markdown",
   "id": "23127f32",
   "metadata": {},
   "source": [
    "Nessa próxima etapa, vamos verificar alguns dados de colunas importantes do nosso dataframe, limpar valores vazios, mudar o tipo de algumas colunas e criar novas colunas para ter uma melhor volatilidade na analise e manipulação dos dados."
   ]
  },
  {
   "cell_type": "code",
   "execution_count": 7,
   "id": "c6a4726b",
   "metadata": {},
   "outputs": [
    {
     "data": {
      "text/plain": [
       "array(['male', 'female'], dtype=object)"
      ]
     },
     "execution_count": 7,
     "metadata": {},
     "output_type": "execute_result"
    }
   ],
   "source": [
    "df['Sex'].unique()"
   ]
  },
  {
   "cell_type": "code",
   "execution_count": 8,
   "id": "6df3fe9a",
   "metadata": {},
   "outputs": [
    {
     "data": {
      "text/plain": [
       "male      577\n",
       "female    314\n",
       "Name: Sex, dtype: int64"
      ]
     },
     "execution_count": 8,
     "metadata": {},
     "output_type": "execute_result"
    }
   ],
   "source": [
    "# contagem de valores unicos dentro da coluna Sex\n",
    "df['Sex'].value_counts()"
   ]
  },
  {
   "cell_type": "code",
   "execution_count": 9,
   "id": "cdb4108e",
   "metadata": {},
   "outputs": [
    {
     "data": {
      "text/plain": [
       "array(['S', 'C', 'Q', nan], dtype=object)"
      ]
     },
     "execution_count": 9,
     "metadata": {},
     "output_type": "execute_result"
    }
   ],
   "source": [
    "df['Embarked'].unique()"
   ]
  },
  {
   "cell_type": "code",
   "execution_count": 10,
   "id": "f12fcbea",
   "metadata": {},
   "outputs": [
    {
     "data": {
      "text/plain": [
       "S    644\n",
       "C    168\n",
       "Q     77\n",
       "Name: Embarked, dtype: int64"
      ]
     },
     "execution_count": 10,
     "metadata": {},
     "output_type": "execute_result"
    }
   ],
   "source": [
    "# contagem de valores unicos dentro da coluna Embarked\n",
    "df['Embarked'].value_counts()"
   ]
  },
  {
   "cell_type": "code",
   "execution_count": 11,
   "id": "7ad42028",
   "metadata": {},
   "outputs": [
    {
     "data": {
      "text/plain": [
       "2"
      ]
     },
     "execution_count": 11,
     "metadata": {},
     "output_type": "execute_result"
    }
   ],
   "source": [
    "df['Embarked'].isna().sum()"
   ]
  },
  {
   "cell_type": "code",
   "execution_count": 12,
   "id": "7a55afaf",
   "metadata": {},
   "outputs": [],
   "source": [
    "# Irei criar uma nova coluna que será a soma de número de irmãos/cônjuges a bordo e o número de pais/filhos a bordo\n",
    "df['FamilySize'] = df['SibSp'] + df['Parch']"
   ]
  },
  {
   "cell_type": "code",
   "execution_count": 13,
   "id": "38d07f98",
   "metadata": {
    "scrolled": true
   },
   "outputs": [
    {
     "data": {
      "text/html": [
       "<div>\n",
       "<style scoped>\n",
       "    .dataframe tbody tr th:only-of-type {\n",
       "        vertical-align: middle;\n",
       "    }\n",
       "\n",
       "    .dataframe tbody tr th {\n",
       "        vertical-align: top;\n",
       "    }\n",
       "\n",
       "    .dataframe thead th {\n",
       "        text-align: right;\n",
       "    }\n",
       "</style>\n",
       "<table border=\"1\" class=\"dataframe\">\n",
       "  <thead>\n",
       "    <tr style=\"text-align: right;\">\n",
       "      <th></th>\n",
       "      <th>PassengerId</th>\n",
       "      <th>Survived</th>\n",
       "      <th>Pclass</th>\n",
       "      <th>Name</th>\n",
       "      <th>Sex</th>\n",
       "      <th>Age</th>\n",
       "      <th>SibSp</th>\n",
       "      <th>Parch</th>\n",
       "      <th>Ticket</th>\n",
       "      <th>Fare</th>\n",
       "      <th>Cabin</th>\n",
       "      <th>Embarked</th>\n",
       "      <th>FamilySize</th>\n",
       "    </tr>\n",
       "  </thead>\n",
       "  <tbody>\n",
       "    <tr>\n",
       "      <th>0</th>\n",
       "      <td>1</td>\n",
       "      <td>0</td>\n",
       "      <td>3</td>\n",
       "      <td>Braund, Mr. Owen Harris</td>\n",
       "      <td>male</td>\n",
       "      <td>22.0</td>\n",
       "      <td>1</td>\n",
       "      <td>0</td>\n",
       "      <td>A/5 21171</td>\n",
       "      <td>7.2500</td>\n",
       "      <td>NaN</td>\n",
       "      <td>S</td>\n",
       "      <td>1</td>\n",
       "    </tr>\n",
       "    <tr>\n",
       "      <th>1</th>\n",
       "      <td>2</td>\n",
       "      <td>1</td>\n",
       "      <td>1</td>\n",
       "      <td>Cumings, Mrs. John Bradley (Florence Briggs Th...</td>\n",
       "      <td>female</td>\n",
       "      <td>38.0</td>\n",
       "      <td>1</td>\n",
       "      <td>0</td>\n",
       "      <td>PC 17599</td>\n",
       "      <td>71.2833</td>\n",
       "      <td>C85</td>\n",
       "      <td>C</td>\n",
       "      <td>1</td>\n",
       "    </tr>\n",
       "    <tr>\n",
       "      <th>2</th>\n",
       "      <td>3</td>\n",
       "      <td>1</td>\n",
       "      <td>3</td>\n",
       "      <td>Heikkinen, Miss. Laina</td>\n",
       "      <td>female</td>\n",
       "      <td>26.0</td>\n",
       "      <td>0</td>\n",
       "      <td>0</td>\n",
       "      <td>STON/O2. 3101282</td>\n",
       "      <td>7.9250</td>\n",
       "      <td>NaN</td>\n",
       "      <td>S</td>\n",
       "      <td>0</td>\n",
       "    </tr>\n",
       "    <tr>\n",
       "      <th>3</th>\n",
       "      <td>4</td>\n",
       "      <td>1</td>\n",
       "      <td>1</td>\n",
       "      <td>Futrelle, Mrs. Jacques Heath (Lily May Peel)</td>\n",
       "      <td>female</td>\n",
       "      <td>35.0</td>\n",
       "      <td>1</td>\n",
       "      <td>0</td>\n",
       "      <td>113803</td>\n",
       "      <td>53.1000</td>\n",
       "      <td>C123</td>\n",
       "      <td>S</td>\n",
       "      <td>1</td>\n",
       "    </tr>\n",
       "    <tr>\n",
       "      <th>4</th>\n",
       "      <td>5</td>\n",
       "      <td>0</td>\n",
       "      <td>3</td>\n",
       "      <td>Allen, Mr. William Henry</td>\n",
       "      <td>male</td>\n",
       "      <td>35.0</td>\n",
       "      <td>0</td>\n",
       "      <td>0</td>\n",
       "      <td>373450</td>\n",
       "      <td>8.0500</td>\n",
       "      <td>NaN</td>\n",
       "      <td>S</td>\n",
       "      <td>0</td>\n",
       "    </tr>\n",
       "  </tbody>\n",
       "</table>\n",
       "</div>"
      ],
      "text/plain": [
       "   PassengerId  Survived  Pclass  \\\n",
       "0            1         0       3   \n",
       "1            2         1       1   \n",
       "2            3         1       3   \n",
       "3            4         1       1   \n",
       "4            5         0       3   \n",
       "\n",
       "                                                Name     Sex   Age  SibSp  \\\n",
       "0                            Braund, Mr. Owen Harris    male  22.0      1   \n",
       "1  Cumings, Mrs. John Bradley (Florence Briggs Th...  female  38.0      1   \n",
       "2                             Heikkinen, Miss. Laina  female  26.0      0   \n",
       "3       Futrelle, Mrs. Jacques Heath (Lily May Peel)  female  35.0      1   \n",
       "4                           Allen, Mr. William Henry    male  35.0      0   \n",
       "\n",
       "   Parch            Ticket     Fare Cabin Embarked  FamilySize  \n",
       "0      0         A/5 21171   7.2500   NaN        S           1  \n",
       "1      0          PC 17599  71.2833   C85        C           1  \n",
       "2      0  STON/O2. 3101282   7.9250   NaN        S           0  \n",
       "3      0            113803  53.1000  C123        S           1  \n",
       "4      0            373450   8.0500   NaN        S           0  "
      ]
     },
     "execution_count": 13,
     "metadata": {},
     "output_type": "execute_result"
    }
   ],
   "source": [
    "# Verifico se a coluna foi criada com sucesso\n",
    "df.head()"
   ]
  },
  {
   "cell_type": "code",
   "execution_count": 14,
   "id": "c702f3fc",
   "metadata": {},
   "outputs": [],
   "source": [
    "# Será removido todas as linhas com valores vazios da coluna Embarked\n",
    "df = df.dropna(subset=['Embarked'])"
   ]
  },
  {
   "cell_type": "code",
   "execution_count": 15,
   "id": "7fe484d6",
   "metadata": {},
   "outputs": [],
   "source": [
    "# A solução usada para os valores vazios da coluna Age será substituir pela média de idade, que foi localizada pela função describe.\n",
    "df['Age'] = df['Age'].fillna(29)"
   ]
  },
  {
   "cell_type": "code",
   "execution_count": 16,
   "id": "94dc84fe",
   "metadata": {},
   "outputs": [],
   "source": [
    "# Vou converter para tipo inteiro a coluna Fare\n",
    "df['Fare'] = df['Fare'].astype(int)"
   ]
  },
  {
   "cell_type": "code",
   "execution_count": 17,
   "id": "2c4ee857",
   "metadata": {
    "scrolled": false
   },
   "outputs": [
    {
     "name": "stdout",
     "output_type": "stream",
     "text": [
      "<class 'pandas.core.frame.DataFrame'>\n",
      "Int64Index: 889 entries, 0 to 890\n",
      "Data columns (total 13 columns):\n",
      " #   Column       Non-Null Count  Dtype  \n",
      "---  ------       --------------  -----  \n",
      " 0   PassengerId  889 non-null    int64  \n",
      " 1   Survived     889 non-null    int64  \n",
      " 2   Pclass       889 non-null    int64  \n",
      " 3   Name         889 non-null    object \n",
      " 4   Sex          889 non-null    object \n",
      " 5   Age          889 non-null    float64\n",
      " 6   SibSp        889 non-null    int64  \n",
      " 7   Parch        889 non-null    int64  \n",
      " 8   Ticket       889 non-null    object \n",
      " 9   Fare         889 non-null    int32  \n",
      " 10  Cabin        202 non-null    object \n",
      " 11  Embarked     889 non-null    object \n",
      " 12  FamilySize   889 non-null    int64  \n",
      "dtypes: float64(1), int32(1), int64(6), object(5)\n",
      "memory usage: 93.8+ KB\n"
     ]
    }
   ],
   "source": [
    "df.info()"
   ]
  },
  {
   "cell_type": "code",
   "execution_count": 18,
   "id": "eb6ba67f",
   "metadata": {
    "scrolled": true
   },
   "outputs": [
    {
     "data": {
      "text/plain": [
       "0    549\n",
       "1    340\n",
       "Name: Survived, dtype: int64"
      ]
     },
     "execution_count": 18,
     "metadata": {},
     "output_type": "execute_result"
    }
   ],
   "source": [
    "df['Survived'].value_counts()"
   ]
  },
  {
   "cell_type": "code",
   "execution_count": 19,
   "id": "2044adf5",
   "metadata": {},
   "outputs": [
    {
     "name": "stdout",
     "output_type": "stream",
     "text": [
      "A porcentagem de sobreviventes na coluna 'Survived' é: 38.25%\n"
     ]
    }
   ],
   "source": [
    "# vou pegar a soma e o total de sobreviventes e verificar a porcentagem dos sobreviventes do navio.\n",
    "df_sobreviventes = df[df['Survived'] == 1]\n",
    "df_soma_sobreviventes = df_sobreviventes['Survived'].count()\n",
    "df_total_sobreviventes = df['Survived'].count()\n",
    "df_sobreviventes_porcentagem = df_soma_sobreviventes / df_total_sobreviventes * 100\n",
    "print(f\"A porcentagem de sobreviventes na coluna 'Survived' é: {df_sobreviventes_porcentagem:.2f}%\")"
   ]
  },
  {
   "cell_type": "code",
   "execution_count": 20,
   "id": "e5d933e6",
   "metadata": {
    "scrolled": true
   },
   "outputs": [
    {
     "name": "stdout",
     "output_type": "stream",
     "text": [
      "Média de idade por sobreviventes:\n",
      "Survived\n",
      "0    30.255920\n",
      "1    28.316676\n",
      "Name: Age, dtype: float64\n"
     ]
    }
   ],
   "source": [
    "# Agora será calculado a média de idade dos sobreviventes e dos não sobreviventes\n",
    "df_idade_media_sobreviventes = df.groupby('Survived')['Age'].mean()\n",
    "print(\"Média de idade por sobreviventes:\")\n",
    "print(df_idade_media_sobreviventes)"
   ]
  },
  {
   "cell_type": "markdown",
   "id": "7cf4772c",
   "metadata": {},
   "source": [
    "Concluimos que a média de sobreviventes e não sobreviventes por idade são proximas, a média de idade dos que não sobreviveram é de 30 anos, enquanto a média dos que sobreviveram é de 28 anos."
   ]
  },
  {
   "cell_type": "code",
   "execution_count": 21,
   "id": "18452c95",
   "metadata": {},
   "outputs": [
    {
     "name": "stdout",
     "output_type": "stream",
     "text": [
      "Maior idade: 80.0\n",
      "Menor idade: 0.42\n"
     ]
    }
   ],
   "source": [
    "# Vou encontrar a maior idade da coluna Age\n",
    "idade_max = df['Age'].max()\n",
    "\n",
    "# Vou encontrar a menor idade da coluna Age\n",
    "idade_min = df['Age'].min()\n",
    "\n",
    "print(f\"Maior idade: {idade_max}\")\n",
    "print(f\"Menor idade: {idade_min}\")"
   ]
  },
  {
   "cell_type": "code",
   "execution_count": 22,
   "id": "d6cc7702",
   "metadata": {},
   "outputs": [
    {
     "name": "stdout",
     "output_type": "stream",
     "text": [
      "Maior tarifa paga: 512\n",
      "Menor tarifa paga: 0\n"
     ]
    }
   ],
   "source": [
    "# Nesse bloco de código, vou localizar a tarifa mais cara e a mais barata que foi paga.\n",
    "tarifa_max = df['Fare'].max()\n",
    "\n",
    "tarifa_min = df['Fare'].min()\n",
    "\n",
    "print(f\"Maior tarifa paga: {tarifa_max}\")\n",
    "print(f\"Menor tarifa paga: {tarifa_min}\")"
   ]
  },
  {
   "cell_type": "code",
   "execution_count": 23,
   "id": "98ff271f",
   "metadata": {
    "scrolled": true
   },
   "outputs": [
    {
     "name": "stdout",
     "output_type": "stream",
     "text": [
      "   Pclass     Sex        Age\n",
      "0       1  female  33.728261\n",
      "1       1    male  39.167377\n",
      "2       2  female  28.730263\n",
      "3       2    male  30.595648\n",
      "4       3  female  23.864583\n",
      "5       3    male  27.182767\n"
     ]
    }
   ],
   "source": [
    "# Agora será criado uma tabela que mostre a média de idade para cada combinação de classe e sexo\n",
    "media_idade_por_comb = df.groupby(['Pclass', 'Sex'])['Age'].mean().reset_index()\n",
    "print(media_idade_por_comb)"
   ]
  },
  {
   "cell_type": "markdown",
   "id": "a6b31790",
   "metadata": {},
   "source": [
    "Nesta próxima etapa, vamos utilizar gráficos para visualizar melhor as informações sobre o número de passageiros, número de sobreviventes e não sobreviventes, e a distribuição da idade dos passageiros."
   ]
  },
  {
   "cell_type": "code",
   "execution_count": 24,
   "id": "171da06a",
   "metadata": {
    "scrolled": true
   },
   "outputs": [
    {
     "data": {
      "image/png": "[encoded data removed]",
      "text/plain": [
       "<Figure size 800x600 with 1 Axes>"
      ]
     },
     "metadata": {},
     "output_type": "display_data"
    }
   ],
   "source": [
    "# Agora vou contar o número de passageiros em cada categoria de Pclass e criar um gráfico de barras utilizando matplotlib\n",
    "contagem_pclass = df['Pclass'].value_counts().sort_index()\n",
    "\n",
    "# Criar o gráfico de barras\n",
    "plt.figure(figsize=(8, 6))\n",
    "contagem_pclass.plot(kind='bar', color='skyblue')\n",
    "plt.title('Número de Passageiros por Classe (Pclass)')\n",
    "plt.xlabel('Classe (Pclass)')\n",
    "plt.ylabel('Número de Passageiros')\n",
    "plt.xticks(rotation=0)  # Manter os rótulos do eixo x horizontais\n",
    "plt.grid(axis='y', linestyle='--', alpha=0.7)\n",
    "plt.show()"
   ]
  },
  {
   "cell_type": "code",
   "execution_count": 25,
   "id": "382aeefc",
   "metadata": {},
   "outputs": [
    {
     "data": {
      "image/png": "[encoded data removed]",
      "text/plain": [
       "<Figure size 1000x600 with 1 Axes>"
      ]
     },
     "metadata": {},
     "output_type": "display_data"
    }
   ],
   "source": [
    "# Agora vou criar um gráfico de barras para mostrar o número de sobreviventes e não sobreviventes separados por sexo.\n",
    "\n",
    "plt.figure(figsize=(10, 6))\n",
    "sns.countplot(data=df, x='Sex', hue='Survived', palette='pastel')\n",
    "\n",
    "plt.title('Número de Sobreviventes e Não Sobreviventes por Sexo')\n",
    "plt.xlabel('Sexo')\n",
    "plt.ylabel('Número de Passageiros')\n",
    "plt.legend(title='Sobrevivente', labels=['Não Sobrevivente', 'Sobrevivente'])\n",
    "plt.grid(axis='y', linestyle='--', alpha=0.7)\n",
    "\n",
    "\n",
    "plt.show()"
   ]
  },
  {
   "cell_type": "code",
   "execution_count": 26,
   "id": "0b46b4c3",
   "metadata": {
    "scrolled": true
   },
   "outputs": [
    {
     "data": {
      "image/png": "[encoded data removed]",
      "text/plain": [
       "<Figure size 1000x600 with 1 Axes>"
      ]
     },
     "metadata": {},
     "output_type": "display_data"
    }
   ],
   "source": [
    "# Agora será criado um histograma das idades dos passageiros\n",
    "\n",
    "plt.figure(figsize=(10, 6))\n",
    "sns.histplot(df['Age'], bins=10, kde=True, color='skyblue', edgecolor='black')\n",
    "\n",
    "plt.title('Distribuição das Idades dos Passageiros')\n",
    "plt.xlabel('Idade')\n",
    "plt.ylabel('Número de Passageiros')\n",
    "plt.grid(axis='y', linestyle='--', alpha=0.7)\n",
    "\n",
    "plt.show()"
   ]
  },
  {
   "cell_type": "code",
   "execution_count": 27,
   "id": "75479fff",
   "metadata": {
    "scrolled": true
   },
   "outputs": [
    {
     "name": "stdout",
     "output_type": "stream",
     "text": [
      "  Embarked  Survived\n",
      "0        C  0.553571\n",
      "1        Q  0.389610\n",
      "2        S  0.336957\n"
     ]
    }
   ],
   "source": [
    "# Média de sobreviventes por porto de embarcação\n",
    "media_sobreviventes_por_embarked = df.groupby('Embarked')['Survived'].mean().reset_index()\n",
    "\n",
    "print(media_sobreviventes_por_embarked)"
   ]
  },
  {
   "cell_type": "code",
   "execution_count": 28,
   "id": "8677ef7d",
   "metadata": {},
   "outputs": [
    {
     "name": "stdout",
     "output_type": "stream",
     "text": [
      "A classe com o maior número de sobreviventes é a 1 com 134 sobreviventes.\n"
     ]
    }
   ],
   "source": [
    "# Agora irei conferir qual classe teve o maior numero de sobreviventes\n",
    "sobreviventes_por_classe = df.groupby('Pclass')['Survived'].sum()\n",
    "\n",
    "classe_maior_sobreviventes = sobreviventes_por_classe.idxmax()\n",
    "numero_sobreviventes = sobreviventes_por_classe.max()\n",
    "\n",
    "print(f\"A classe com o maior número de sobreviventes é a {classe_maior_sobreviventes} com {numero_sobreviventes} sobreviventes.\")"
   ]
  },
  {
   "cell_type": "code",
   "execution_count": 29,
   "id": "a0d19158",
   "metadata": {},
   "outputs": [
    {
     "name": "stdout",
     "output_type": "stream",
     "text": [
      "Média de sobreviventes com familiares a bordo: 0.51\n",
      "Média de sobreviventes sem familiares a bordo: 0.30\n",
      "Ter familiares a bordo parece aumentar a chance de sobrevivência.\n"
     ]
    }
   ],
   "source": [
    "# Agora iremos verificar se ter familia a bordo aumenta as chances de sobrevivencia\n",
    "\n",
    "df['Has_Family'] = df['FamilySize'] > 0\n",
    "\n",
    "media_sobreviventes_com_familia = df[df['Has_Family']]['Survived'].mean()\n",
    "media_sobreviventes_sem_familia = df[~df['Has_Family']]['Survived'].mean()\n",
    "\n",
    "print(f\"Média de sobreviventes com familiares a bordo: {media_sobreviventes_com_familia:.2f}\")\n",
    "print(f\"Média de sobreviventes sem familiares a bordo: {media_sobreviventes_sem_familia:.2f}\")\n",
    "\n",
    "# Foi criado um condicional apenas para validarmos nossa tese'\n",
    "if media_sobreviventes_com_familia > media_sobreviventes_sem_familia:\n",
    "    print(\"Ter familiares a bordo parece aumentar a chance de sobrevivência.\")\n",
    "else:\n",
    "    print(\"Ter familiares a bordo não parece aumentar a chance de sobrevivência.\")"
   ]
  },
  {
   "cell_type": "markdown",
   "id": "55fe172d",
   "metadata": {},
   "source": [
    "Aqui extraímos algumas informações importantes. A primeira é que a classe com o maior número de sobreviventes é a 1ª, e isso não acontece por acaso. As cabines dessa classe ficavam na parte superior do navio, mais próximas dos botes salva-vidas. A segunda informação é que a média de sobreviventes com familiares é ligeiramente maior que a média de sobreviventes sem familiares a bordo, indicando que ter família a bordo aumentou as chances de sobrevivência."
   ]
  },
  {
   "cell_type": "code",
   "execution_count": 30,
   "id": "ca15b027",
   "metadata": {
    "scrolled": true
   },
   "outputs": [
    {
     "name": "stdout",
     "output_type": "stream",
     "text": [
      "     PassengerId  Survived  Pclass  \\\n",
      "0              1         0       3   \n",
      "1              2         1       1   \n",
      "2              3         1       3   \n",
      "3              4         1       1   \n",
      "4              5         0       3   \n",
      "..           ...       ...     ...   \n",
      "886          887         0       2   \n",
      "887          888         1       1   \n",
      "888          889         0       3   \n",
      "889          890         1       1   \n",
      "890          891         0       3   \n",
      "\n",
      "                                                  Name     Sex   Age  SibSp  \\\n",
      "0                              Braund, Mr. Owen Harris    male  22.0      1   \n",
      "1    Cumings, Mrs. John Bradley (Florence Briggs Th...  female  38.0      1   \n",
      "2                               Heikkinen, Miss. Laina  female  26.0      0   \n",
      "3         Futrelle, Mrs. Jacques Heath (Lily May Peel)  female  35.0      1   \n",
      "4                             Allen, Mr. William Henry    male  35.0      0   \n",
      "..                                                 ...     ...   ...    ...   \n",
      "886                              Montvila, Rev. Juozas    male  27.0      0   \n",
      "887                       Graham, Miss. Margaret Edith  female  19.0      0   \n",
      "888           Johnston, Miss. Catherine Helen \"Carrie\"  female  29.0      1   \n",
      "889                              Behr, Mr. Karl Howell    male  26.0      0   \n",
      "890                                Dooley, Mr. Patrick    male  32.0      0   \n",
      "\n",
      "     Parch            Ticket  Fare Cabin Embarked  FamilySize  Has_Family  \\\n",
      "0        0         A/5 21171     7   NaN        S           1        True   \n",
      "1        0          PC 17599    71   C85        C           1        True   \n",
      "2        0  STON/O2. 3101282     7   NaN        S           0       False   \n",
      "3        0            113803    53  C123        S           1        True   \n",
      "4        0            373450     8   NaN        S           0       False   \n",
      "..     ...               ...   ...   ...      ...         ...         ...   \n",
      "886      0            211536    13   NaN        S           0       False   \n",
      "887      0            112053    30   B42        S           0       False   \n",
      "888      2        W./C. 6607    23   NaN        S           3        True   \n",
      "889      0            111369    30  C148        C           0       False   \n",
      "890      0            370376     7   NaN        Q           0       False   \n",
      "\n",
      "     isChild  \n",
      "0      False  \n",
      "1      False  \n",
      "2      False  \n",
      "3      False  \n",
      "4      False  \n",
      "..       ...  \n",
      "886    False  \n",
      "887    False  \n",
      "888    False  \n",
      "889    False  \n",
      "890    False  \n",
      "\n",
      "[889 rows x 15 columns]\n"
     ]
    }
   ],
   "source": [
    "# Será criado uma nova coluna para validar quais passageiros são menores de idade\n",
    "df['isChild'] = df['Age'] < 18\n",
    "\n",
    "print(df)"
   ]
  },
  {
   "cell_type": "code",
   "execution_count": 31,
   "id": "ffaf4874",
   "metadata": {},
   "outputs": [
    {
     "name": "stdout",
     "output_type": "stream",
     "text": [
      "Sex       female      male\n",
      "Pclass                    \n",
      "1       0.967391  0.368852\n",
      "2       0.921053  0.157407\n",
      "3       0.500000  0.135447\n"
     ]
    }
   ],
   "source": [
    "# Será criado um pivot table mostrando a média de sobreviventes para cada classe e sexo.\n",
    "\n",
    "pivot_table = df.pivot_table(\n",
    "    index='Pclass',     # Linha\n",
    "    columns='Sex',      # Colunas\n",
    "    values='Survived',  # Valores para calcular a média\n",
    "    aggfunc='mean'      # Função de agregação: calcular a média\n",
    ")\n",
    "\n",
    "print(pivot_table)"
   ]
  },
  {
   "cell_type": "code",
   "execution_count": 32,
   "id": "227ed26b",
   "metadata": {},
   "outputs": [
    {
     "name": "stdout",
     "output_type": "stream",
     "text": [
      "     PassengerId  Survived  Pclass  \\\n",
      "0              1         0       3   \n",
      "1              2         1       1   \n",
      "2              3         1       3   \n",
      "3              4         1       1   \n",
      "4              5         0       3   \n",
      "..           ...       ...     ...   \n",
      "886          887         0       2   \n",
      "887          888         1       1   \n",
      "888          889         0       3   \n",
      "889          890         1       1   \n",
      "890          891         0       3   \n",
      "\n",
      "                                                  Name     Sex   Age  SibSp  \\\n",
      "0                              Braund, Mr. Owen Harris    male  22.0      1   \n",
      "1    Cumings, Mrs. John Bradley (Florence Briggs Th...  female  38.0      1   \n",
      "2                               Heikkinen, Miss. Laina  female  26.0      0   \n",
      "3         Futrelle, Mrs. Jacques Heath (Lily May Peel)  female  35.0      1   \n",
      "4                             Allen, Mr. William Henry    male  35.0      0   \n",
      "..                                                 ...     ...   ...    ...   \n",
      "886                              Montvila, Rev. Juozas    male  27.0      0   \n",
      "887                       Graham, Miss. Margaret Edith  female  19.0      0   \n",
      "888           Johnston, Miss. Catherine Helen \"Carrie\"  female  29.0      1   \n",
      "889                              Behr, Mr. Karl Howell    male  26.0      0   \n",
      "890                                Dooley, Mr. Patrick    male  32.0      0   \n",
      "\n",
      "     Parch            Ticket  Fare Cabin Embarked  FamilySize  Has_Family  \\\n",
      "0        0         A/5 21171     7   NaN        S           1        True   \n",
      "1        0          PC 17599    71   C85        C           1        True   \n",
      "2        0  STON/O2. 3101282     7   NaN        S           0       False   \n",
      "3        0            113803    53  C123        S           1        True   \n",
      "4        0            373450     8   NaN        S           0       False   \n",
      "..     ...               ...   ...   ...      ...         ...         ...   \n",
      "886      0            211536    13   NaN        S           0       False   \n",
      "887      0            112053    30   B42        S           0       False   \n",
      "888      2        W./C. 6607    23   NaN        S           3        True   \n",
      "889      0            111369    30  C148        C           0       False   \n",
      "890      0            370376     7   NaN        Q           0       False   \n",
      "\n",
      "     isChild Title  \n",
      "0      False    Mr  \n",
      "1      False   Mrs  \n",
      "2      False  Miss  \n",
      "3      False   Mrs  \n",
      "4      False    Mr  \n",
      "..       ...   ...  \n",
      "886    False   Rev  \n",
      "887    False  Miss  \n",
      "888    False  Miss  \n",
      "889    False    Mr  \n",
      "890    False    Mr  \n",
      "\n",
      "[889 rows x 16 columns]\n"
     ]
    }
   ],
   "source": [
    "# será criado uma coluna 'Title' extraída do nome do passageiro(a).\n",
    "df['Title'] = df['Name'].str.extract(r',\\s*([A-Za-z]+)\\.')\n",
    "\n",
    "print(df)"
   ]
  },
  {
   "cell_type": "code",
   "execution_count": 33,
   "id": "20d39a99",
   "metadata": {},
   "outputs": [
    {
     "name": "stdout",
     "output_type": "stream",
     "text": [
      "     PassengerId  Survived  Pclass  \\\n",
      "0              1         0       3   \n",
      "1              2         1       1   \n",
      "2              3         1       3   \n",
      "3              4         1       1   \n",
      "4              5         0       3   \n",
      "..           ...       ...     ...   \n",
      "886          887         0       2   \n",
      "887          888         1       1   \n",
      "888          889         0       3   \n",
      "889          890         1       1   \n",
      "890          891         0       3   \n",
      "\n",
      "                                                  Name     Sex   Age  SibSp  \\\n",
      "0                              Braund, Mr. Owen Harris    male  22.0      1   \n",
      "1    Cumings, Mrs. John Bradley (Florence Briggs Th...  female  38.0      1   \n",
      "2                               Heikkinen, Miss. Laina  female  26.0      0   \n",
      "3         Futrelle, Mrs. Jacques Heath (Lily May Peel)  female  35.0      1   \n",
      "4                             Allen, Mr. William Henry    male  35.0      0   \n",
      "..                                                 ...     ...   ...    ...   \n",
      "886                              Montvila, Rev. Juozas    male  27.0      0   \n",
      "887                       Graham, Miss. Margaret Edith  female  19.0      0   \n",
      "888           Johnston, Miss. Catherine Helen \"Carrie\"  female  29.0      1   \n",
      "889                              Behr, Mr. Karl Howell    male  26.0      0   \n",
      "890                                Dooley, Mr. Patrick    male  32.0      0   \n",
      "\n",
      "     Parch            Ticket  Fare Cabin Embarked  FamilySize  Has_Family  \\\n",
      "0        0         A/5 21171     7   NaN        S           1        True   \n",
      "1        0          PC 17599    71   C85        C           1        True   \n",
      "2        0  STON/O2. 3101282     7   NaN        S           0       False   \n",
      "3        0            113803    53  C123        S           1        True   \n",
      "4        0            373450     8   NaN        S           0       False   \n",
      "..     ...               ...   ...   ...      ...         ...         ...   \n",
      "886      0            211536    13   NaN        S           0       False   \n",
      "887      0            112053    30   B42        S           0       False   \n",
      "888      2        W./C. 6607    23   NaN        S           3        True   \n",
      "889      0            111369    30  C148        C           0       False   \n",
      "890      0            370376     7   NaN        Q           0       False   \n",
      "\n",
      "     isChild Title  Fare_Normalized  \n",
      "0      False    Mr         0.013672  \n",
      "1      False   Mrs         0.138672  \n",
      "2      False  Miss         0.013672  \n",
      "3      False   Mrs         0.103516  \n",
      "4      False    Mr         0.015625  \n",
      "..       ...   ...              ...  \n",
      "886    False   Rev         0.025391  \n",
      "887    False  Miss         0.058594  \n",
      "888    False  Miss         0.044922  \n",
      "889    False    Mr         0.058594  \n",
      "890    False    Mr         0.013672  \n",
      "\n",
      "[889 rows x 17 columns]\n"
     ]
    }
   ],
   "source": [
    "# será aplicado uma função de normalização nos valores da coluna fare e em seguida um apply para aplicar o normalize a cada valor da coluna fare.\n",
    "def normalize(fare):\n",
    "\n",
    "    return (fare - df['Fare'].min()) / (df['Fare'].max() - df['Fare'].min())\n",
    "\n",
    "df['Fare_Normalized'] = df['Fare'].apply(normalize)\n",
    "\n",
    "print(df)"
   ]
  },
  {
   "cell_type": "code",
   "execution_count": 34,
   "id": "5f88a6ff",
   "metadata": {
    "scrolled": true
   },
   "outputs": [
    {
     "name": "stdout",
     "output_type": "stream",
     "text": [
      "                Age       Fare  Survived\n",
      "Title                                   \n",
      "Capt      70.000000  71.000000  0.000000\n",
      "Col       58.000000  30.500000  0.500000\n",
      "Don       40.000000  27.000000  0.000000\n",
      "Dr        40.142857  48.714286  0.428571\n",
      "Jonkheer  38.000000   0.000000  0.000000\n",
      "Lady      48.000000  39.000000  1.000000\n",
      "Major     48.500000  28.000000  0.500000\n",
      "Master     7.016750  34.250000  0.575000\n",
      "Miss      23.121547  43.132597  0.696133\n",
      "Mlle      24.000000  59.000000  1.000000\n",
      "Mme       24.000000  69.000000  1.000000\n",
      "Mr        31.592843  24.021277  0.156673\n",
      "Mrs       34.741935  44.508065  0.790323\n",
      "Ms        28.000000  13.000000  1.000000\n",
      "Rev       43.166667  18.166667  0.000000\n",
      "Sir       49.000000  56.000000  1.000000\n"
     ]
    }
   ],
   "source": [
    "# Agora foi agrupado por 'Title' e mostrado a média de idade, tarifa e sobrevivência.\n",
    "grouped = df.groupby('Title').mean()\n",
    "\n",
    "\n",
    "print(grouped[['Age', 'Fare', 'Survived']])"
   ]
  },
  {
   "cell_type": "code",
   "execution_count": 35,
   "id": "54545963",
   "metadata": {
    "scrolled": false
   },
   "outputs": [
    {
     "name": "stdout",
     "output_type": "stream",
     "text": [
      "Pclass      1   2    3\n",
      "Title                 \n",
      "Capt        1   0    0\n",
      "Col         2   0    0\n",
      "Don         1   0    0\n",
      "Dr          5   2    0\n",
      "Jonkheer    1   0    0\n",
      "Lady        1   0    0\n",
      "Major       2   0    0\n",
      "Master      3   9   28\n",
      "Miss       45  34  102\n",
      "Mlle        2   0    0\n",
      "Mme         1   0    0\n",
      "Mr        107  91  319\n",
      "Mrs        41  41   42\n",
      "Ms          0   1    0\n",
      "Rev         0   6    0\n",
      "Sir         1   0    0\n"
     ]
    }
   ],
   "source": [
    "# Foi feito uma distribuição de passageiros agrupados pelo titulo e a classe.\n",
    "distribution = df.groupby(['Title', 'Pclass']).size().unstack(fill_value=0)\n",
    "\n",
    "print(distribution)"
   ]
  },
  {
   "cell_type": "code",
   "execution_count": 36,
   "id": "265f33f5",
   "metadata": {
    "scrolled": true
   },
   "outputs": [
    {
     "name": "stdout",
     "output_type": "stream",
     "text": [
      "Embarked  Pclass\n",
      "C         1          85\n",
      "          2          17\n",
      "          3          66\n",
      "Q         1           2\n",
      "          2           3\n",
      "          3          72\n",
      "S         1         127\n",
      "          2         164\n",
      "          3         353\n",
      "Name: PassengerId, dtype: int64\n"
     ]
    }
   ],
   "source": [
    "# Agrupado o número de passageiros únicos em cada combinação de 'Embarked' e 'Pclass'.\n",
    "unique_passengers = df.groupby(['Embarked', 'Pclass'])['PassengerId'].nunique()\n",
    "\n",
    "print(unique_passengers)"
   ]
  },
  {
   "cell_type": "code",
   "execution_count": 37,
   "id": "001550ee",
   "metadata": {},
   "outputs": [
    {
     "name": "stdout",
     "output_type": "stream",
     "text": [
      "Embarked  Pclass\n",
      "C         1         104.235294\n",
      "          2          25.000000\n",
      "          3          10.833333\n",
      "Q         1          90.000000\n",
      "          2          12.000000\n",
      "          3          10.555556\n",
      "S         1          69.992126\n",
      "          2          20.140244\n",
      "          3          14.144476\n",
      "Name: Fare, dtype: float64\n"
     ]
    }
   ],
   "source": [
    "# Foi realizado o calculo da média de tarifa por porto de embarque e classe.\n",
    "fare_mean = df.groupby(['Embarked', 'Pclass'])['Fare'].mean()\n",
    "print(fare_mean)\n"
   ]
  },
  {
   "cell_type": "code",
   "execution_count": 38,
   "id": "24fd4a73",
   "metadata": {},
   "outputs": [
    {
     "name": "stdout",
     "output_type": "stream",
     "text": [
      "Survived    0    1\n",
      "Embarked          \n",
      "C          75   93\n",
      "Q          47   30\n",
      "S         427  217\n",
      "Cramér's V: 0.17261682709984438\n"
     ]
    }
   ],
   "source": [
    "# Agora eu preciso verificar se há uma correlação entre o local de embarque e a sobrevivência. Nesse caso, eu primeiro irei criar uma tabela de contingencia.\n",
    "contingency_table = pd.crosstab(df['Embarked'], df['Survived'])\n",
    "\n",
    "print(contingency_table)\n",
    "\n",
    "\n",
    "# Em seguida Calcular o Cramér's V para medir a força da associação entre Embarked e Survived.\n",
    "chi2, p, dof, ex = stats.chi2_contingency(contingency_table)\n",
    "\n",
    "\n",
    "# Calcular Cramér's V\n",
    "n = contingency_table.sum().sum()\n",
    "cramers_v = np.sqrt(chi2 / (n * (min(contingency_table.shape) - 1)))\n",
    "\n",
    "print(f\"Cramér's V: {cramers_v}\")"
   ]
  },
  {
   "cell_type": "markdown",
   "id": "085885de",
   "metadata": {},
   "source": [
    "Aqui, para verificar se existe uma correlação entre o local de embarque e a sobrevivência, utilizei o Cramér's V, que é uma medida de associação entre duas variáveis categóricas.\n",
    "\n",
    "O resultado foi de 0,173, indicando uma correlação fraca entre o local de embarque e a sobrevivência. Embora exista alguma associação, ela não é muito forte (lembrando que, quanto mais próximo do valor 1, maior a relação entre as variáveis).\n",
    "\n",
    "Embora o local de embarque possa ter algum impacto na sobrevivência, ele provavelmente não é um fator determinante isolado. Outros fatores, como a classe do bilhete, a idade ou se o passageiro tinha familiares a bordo, provavelmente têm uma influência maior."
   ]
  },
  {
   "cell_type": "code",
   "execution_count": 39,
   "id": "c37c9359",
   "metadata": {},
   "outputs": [
    {
     "name": "stdout",
     "output_type": "stream",
     "text": [
      "      PassengerId Variable  Value\n",
      "0               1      Age   22.0\n",
      "1               2      Age   38.0\n",
      "2               3      Age   26.0\n",
      "3               4      Age   35.0\n",
      "4               5      Age   35.0\n",
      "...           ...      ...    ...\n",
      "1773          887     Fare   13.0\n",
      "1774          888     Fare   30.0\n",
      "1775          889     Fare   23.0\n",
      "1776          890     Fare   30.0\n",
      "1777          891     Fare    7.0\n",
      "\n",
      "[1778 rows x 3 columns]\n"
     ]
    }
   ],
   "source": [
    "# Utilizei a função melt para transformar o DataFrame para long format com variáveis 'Age' e 'Fare'.\n",
    "df_melted = pd.melt(df, id_vars=['PassengerId'], value_vars=['Age', 'Fare'], \n",
    "                    var_name='Variable', value_name='Value')\n",
    "\n",
    "print(df_melted)"
   ]
  },
  {
   "cell_type": "code",
   "execution_count": 40,
   "id": "6bf56503",
   "metadata": {
    "scrolled": true
   },
   "outputs": [
    {
     "name": "stdout",
     "output_type": "stream",
     "text": [
      "     PassengerId  Survived  Pclass  \\\n",
      "0              1         0       3   \n",
      "2              3         1       3   \n",
      "5              6         0       3   \n",
      "8              9         1       3   \n",
      "12            13         0       3   \n",
      "..           ...       ...     ...   \n",
      "883          884         0       2   \n",
      "884          885         0       3   \n",
      "886          887         0       2   \n",
      "888          889         0       3   \n",
      "889          890         1       1   \n",
      "\n",
      "                                                  Name     Sex   Age  SibSp  \\\n",
      "0                              Braund, Mr. Owen Harris    male  22.0      1   \n",
      "2                               Heikkinen, Miss. Laina  female  26.0      0   \n",
      "5                                     Moran, Mr. James    male  29.0      0   \n",
      "8    Johnson, Mrs. Oscar W (Elisabeth Vilhelmina Berg)  female  27.0      0   \n",
      "12                      Saundercock, Mr. William Henry    male  20.0      0   \n",
      "..                                                 ...     ...   ...    ...   \n",
      "883                      Banfield, Mr. Frederick James    male  28.0      0   \n",
      "884                             Sutehall, Mr. Henry Jr    male  25.0      0   \n",
      "886                              Montvila, Rev. Juozas    male  27.0      0   \n",
      "888           Johnston, Miss. Catherine Helen \"Carrie\"  female  29.0      1   \n",
      "889                              Behr, Mr. Karl Howell    male  26.0      0   \n",
      "\n",
      "     Parch            Ticket  Fare Cabin Embarked  FamilySize  Has_Family  \\\n",
      "0        0         A/5 21171     7   NaN        S           1        True   \n",
      "2        0  STON/O2. 3101282     7   NaN        S           0       False   \n",
      "5        0            330877     8   NaN        Q           0       False   \n",
      "8        2            347742    11   NaN        S           2        True   \n",
      "12       0         A/5. 2151     8   NaN        S           0       False   \n",
      "..     ...               ...   ...   ...      ...         ...         ...   \n",
      "883      0  C.A./SOTON 34068    10   NaN        S           0       False   \n",
      "884      0   SOTON/OQ 392076     7   NaN        S           0       False   \n",
      "886      0            211536    13   NaN        S           0       False   \n",
      "888      2        W./C. 6607    23   NaN        S           3        True   \n",
      "889      0            111369    30  C148        C           0       False   \n",
      "\n",
      "     isChild Title  Fare_Normalized  \n",
      "0      False    Mr         0.013672  \n",
      "2      False  Miss         0.013672  \n",
      "5      False    Mr         0.015625  \n",
      "8      False   Mrs         0.021484  \n",
      "12     False    Mr         0.015625  \n",
      "..       ...   ...              ...  \n",
      "883    False    Mr         0.019531  \n",
      "884    False    Mr         0.013672  \n",
      "886    False   Rev         0.025391  \n",
      "888    False  Miss         0.044922  \n",
      "889    False    Mr         0.058594  \n",
      "\n",
      "[422 rows x 17 columns]\n"
     ]
    }
   ],
   "source": [
    "# Neste codigo irei encontrar todos os passageiros com idades entre 20 e 30 anos.\n",
    "\n",
    "passengers_20_to_30 = df[(df['Age'] >= 20) & (df['Age'] <= 30)]\n",
    "\n",
    "\n",
    "print(passengers_20_to_30)\n"
   ]
  },
  {
   "cell_type": "code",
   "execution_count": 41,
   "id": "a19a576b",
   "metadata": {
    "scrolled": true
   },
   "outputs": [
    {
     "data": {
      "image/png": "[encoded data removed]",
      "text/plain": [
       "<Figure size 1000x600 with 1 Axes>"
      ]
     },
     "metadata": {},
     "output_type": "display_data"
    }
   ],
   "source": [
    "# Criei um boxplot para comparar a distribuição de tarifas entre diferentes classes.\n",
    "\n",
    "# boxplot usando seaborn\n",
    "plt.figure(figsize=(10, 6))\n",
    "sns.boxplot(x='Pclass', y='Fare', data=df)\n",
    "\n",
    "# título e rótulos aos eixos\n",
    "plt.title('Distribuição de Tarifas por Classe')\n",
    "plt.xlabel('Classe')\n",
    "plt.ylabel('Tarifa')\n",
    "\n",
    "\n",
    "plt.show()"
   ]
  },
  {
   "cell_type": "code",
   "execution_count": 42,
   "id": "98f299c2",
   "metadata": {},
   "outputs": [
    {
     "data": {
      "text/html": [
       "<div>\n",
       "<style scoped>\n",
       "    .dataframe tbody tr th:only-of-type {\n",
       "        vertical-align: middle;\n",
       "    }\n",
       "\n",
       "    .dataframe tbody tr th {\n",
       "        vertical-align: top;\n",
       "    }\n",
       "\n",
       "    .dataframe thead th {\n",
       "        text-align: right;\n",
       "    }\n",
       "</style>\n",
       "<table border=\"1\" class=\"dataframe\">\n",
       "  <thead>\n",
       "    <tr style=\"text-align: right;\">\n",
       "      <th></th>\n",
       "      <th>PassengerId</th>\n",
       "      <th>Survived</th>\n",
       "      <th>Pclass</th>\n",
       "      <th>Name</th>\n",
       "      <th>Sex</th>\n",
       "      <th>Age</th>\n",
       "      <th>SibSp</th>\n",
       "      <th>Parch</th>\n",
       "      <th>Ticket</th>\n",
       "      <th>Fare</th>\n",
       "      <th>Cabin</th>\n",
       "      <th>Embarked</th>\n",
       "      <th>FamilySize</th>\n",
       "      <th>Has_Family</th>\n",
       "      <th>isChild</th>\n",
       "      <th>Title</th>\n",
       "      <th>Fare_Normalized</th>\n",
       "      <th>FareCategory</th>\n",
       "    </tr>\n",
       "  </thead>\n",
       "  <tbody>\n",
       "    <tr>\n",
       "      <th>0</th>\n",
       "      <td>1</td>\n",
       "      <td>0</td>\n",
       "      <td>3</td>\n",
       "      <td>Braund, Mr. Owen Harris</td>\n",
       "      <td>male</td>\n",
       "      <td>22.0</td>\n",
       "      <td>1</td>\n",
       "      <td>0</td>\n",
       "      <td>A/5 21171</td>\n",
       "      <td>7</td>\n",
       "      <td>NaN</td>\n",
       "      <td>S</td>\n",
       "      <td>1</td>\n",
       "      <td>True</td>\n",
       "      <td>False</td>\n",
       "      <td>Mr</td>\n",
       "      <td>0.013672</td>\n",
       "      <td>Baixa</td>\n",
       "    </tr>\n",
       "    <tr>\n",
       "      <th>1</th>\n",
       "      <td>2</td>\n",
       "      <td>1</td>\n",
       "      <td>1</td>\n",
       "      <td>Cumings, Mrs. John Bradley (Florence Briggs Th...</td>\n",
       "      <td>female</td>\n",
       "      <td>38.0</td>\n",
       "      <td>1</td>\n",
       "      <td>0</td>\n",
       "      <td>PC 17599</td>\n",
       "      <td>71</td>\n",
       "      <td>C85</td>\n",
       "      <td>C</td>\n",
       "      <td>1</td>\n",
       "      <td>True</td>\n",
       "      <td>False</td>\n",
       "      <td>Mrs</td>\n",
       "      <td>0.138672</td>\n",
       "      <td>Alta</td>\n",
       "    </tr>\n",
       "    <tr>\n",
       "      <th>2</th>\n",
       "      <td>3</td>\n",
       "      <td>1</td>\n",
       "      <td>3</td>\n",
       "      <td>Heikkinen, Miss. Laina</td>\n",
       "      <td>female</td>\n",
       "      <td>26.0</td>\n",
       "      <td>0</td>\n",
       "      <td>0</td>\n",
       "      <td>STON/O2. 3101282</td>\n",
       "      <td>7</td>\n",
       "      <td>NaN</td>\n",
       "      <td>S</td>\n",
       "      <td>0</td>\n",
       "      <td>False</td>\n",
       "      <td>False</td>\n",
       "      <td>Miss</td>\n",
       "      <td>0.013672</td>\n",
       "      <td>Baixa</td>\n",
       "    </tr>\n",
       "    <tr>\n",
       "      <th>3</th>\n",
       "      <td>4</td>\n",
       "      <td>1</td>\n",
       "      <td>1</td>\n",
       "      <td>Futrelle, Mrs. Jacques Heath (Lily May Peel)</td>\n",
       "      <td>female</td>\n",
       "      <td>35.0</td>\n",
       "      <td>1</td>\n",
       "      <td>0</td>\n",
       "      <td>113803</td>\n",
       "      <td>53</td>\n",
       "      <td>C123</td>\n",
       "      <td>S</td>\n",
       "      <td>1</td>\n",
       "      <td>True</td>\n",
       "      <td>False</td>\n",
       "      <td>Mrs</td>\n",
       "      <td>0.103516</td>\n",
       "      <td>Alta</td>\n",
       "    </tr>\n",
       "    <tr>\n",
       "      <th>4</th>\n",
       "      <td>5</td>\n",
       "      <td>0</td>\n",
       "      <td>3</td>\n",
       "      <td>Allen, Mr. William Henry</td>\n",
       "      <td>male</td>\n",
       "      <td>35.0</td>\n",
       "      <td>0</td>\n",
       "      <td>0</td>\n",
       "      <td>373450</td>\n",
       "      <td>8</td>\n",
       "      <td>NaN</td>\n",
       "      <td>S</td>\n",
       "      <td>0</td>\n",
       "      <td>False</td>\n",
       "      <td>False</td>\n",
       "      <td>Mr</td>\n",
       "      <td>0.015625</td>\n",
       "      <td>Baixa</td>\n",
       "    </tr>\n",
       "  </tbody>\n",
       "</table>\n",
       "</div>"
      ],
      "text/plain": [
       "   PassengerId  Survived  Pclass  \\\n",
       "0            1         0       3   \n",
       "1            2         1       1   \n",
       "2            3         1       3   \n",
       "3            4         1       1   \n",
       "4            5         0       3   \n",
       "\n",
       "                                                Name     Sex   Age  SibSp  \\\n",
       "0                            Braund, Mr. Owen Harris    male  22.0      1   \n",
       "1  Cumings, Mrs. John Bradley (Florence Briggs Th...  female  38.0      1   \n",
       "2                             Heikkinen, Miss. Laina  female  26.0      0   \n",
       "3       Futrelle, Mrs. Jacques Heath (Lily May Peel)  female  35.0      1   \n",
       "4                           Allen, Mr. William Henry    male  35.0      0   \n",
       "\n",
       "   Parch            Ticket  Fare Cabin Embarked  FamilySize  Has_Family  \\\n",
       "0      0         A/5 21171     7   NaN        S           1        True   \n",
       "1      0          PC 17599    71   C85        C           1        True   \n",
       "2      0  STON/O2. 3101282     7   NaN        S           0       False   \n",
       "3      0            113803    53  C123        S           1        True   \n",
       "4      0            373450     8   NaN        S           0       False   \n",
       "\n",
       "   isChild Title  Fare_Normalized FareCategory  \n",
       "0    False    Mr         0.013672        Baixa  \n",
       "1    False   Mrs         0.138672         Alta  \n",
       "2    False  Miss         0.013672        Baixa  \n",
       "3    False   Mrs         0.103516         Alta  \n",
       "4    False    Mr         0.015625        Baixa  "
      ]
     },
     "execution_count": 42,
     "metadata": {},
     "output_type": "execute_result"
    }
   ],
   "source": [
    "# Criei uma coluna que categoriza os passageiros com base na tarifa paga: baixa, média e alta utilizando a função cut()\n",
    "# Intervalos: 0-20 (baixa), 21-50 (média), acima de 50 (alta)\n",
    "bins = [0, 20, 50, float('inf')] \n",
    "labels = ['Baixa', 'Média', 'Alta']\n",
    "\n",
    "df['FareCategory'] = pd.cut(df['Fare'], bins=bins, labels=labels)\n",
    "\n",
    "df.head()"
   ]
  },
  {
   "cell_type": "code",
   "execution_count": 43,
   "id": "3e0c01b7",
   "metadata": {},
   "outputs": [
    {
     "name": "stdout",
     "output_type": "stream",
     "text": [
      "Limite Inferior: -29.0\n",
      "Limite Superior: 67.0\n",
      "\n",
      "Outliers identificados:\n",
      "     PassengerId  Survived  Pclass  \\\n",
      "1              2         1       1   \n",
      "27            28         0       1   \n",
      "31            32         1       1   \n",
      "34            35         0       1   \n",
      "52            53         1       1   \n",
      "..           ...       ...     ...   \n",
      "846          847         0       3   \n",
      "849          850         1       1   \n",
      "856          857         1       1   \n",
      "863          864         0       3   \n",
      "879          880         1       1   \n",
      "\n",
      "                                                  Name     Sex   Age  SibSp  \\\n",
      "1    Cumings, Mrs. John Bradley (Florence Briggs Th...  female  38.0      1   \n",
      "27                      Fortune, Mr. Charles Alexander    male  19.0      3   \n",
      "31      Spencer, Mrs. William Augustus (Marie Eugenie)  female  29.0      1   \n",
      "34                             Meyer, Mr. Edgar Joseph    male  28.0      1   \n",
      "52            Harper, Mrs. Henry Sleeper (Myna Haxtun)  female  49.0      1   \n",
      "..                                                 ...     ...   ...    ...   \n",
      "846                           Sage, Mr. Douglas Bullen    male  29.0      8   \n",
      "849       Goldenberg, Mrs. Samuel L (Edwiga Grabowska)  female  29.0      1   \n",
      "856         Wick, Mrs. George Dennick (Mary Hitchcock)  female  45.0      1   \n",
      "863                  Sage, Miss. Dorothy Edith \"Dolly\"  female  29.0      8   \n",
      "879      Potter, Mrs. Thomas Jr (Lily Alexenia Wilson)  female  56.0      0   \n",
      "\n",
      "     Parch    Ticket  Fare        Cabin Embarked  FamilySize  Has_Family  \\\n",
      "1        0  PC 17599    71          C85        C           1        True   \n",
      "27       2     19950   263  C23 C25 C27        S           5        True   \n",
      "31       0  PC 17569   146          B78        C           1        True   \n",
      "34       0  PC 17604    82          NaN        C           1        True   \n",
      "52       0  PC 17572    76          D33        C           1        True   \n",
      "..     ...       ...   ...          ...      ...         ...         ...   \n",
      "846      2  CA. 2343    69          NaN        S          10        True   \n",
      "849      0     17453    89          C92        C           1        True   \n",
      "856      1     36928   164          NaN        S           2        True   \n",
      "863      2  CA. 2343    69          NaN        S          10        True   \n",
      "879      1     11767    83          C50        C           1        True   \n",
      "\n",
      "     isChild Title  Fare_Normalized FareCategory  \n",
      "1      False   Mrs         0.138672         Alta  \n",
      "27     False    Mr         0.513672         Alta  \n",
      "31     False   Mrs         0.285156         Alta  \n",
      "34     False    Mr         0.160156         Alta  \n",
      "52     False   Mrs         0.148438         Alta  \n",
      "..       ...   ...              ...          ...  \n",
      "846    False    Mr         0.134766         Alta  \n",
      "849    False   Mrs         0.173828         Alta  \n",
      "856    False   Mrs         0.320312         Alta  \n",
      "863    False  Miss         0.134766         Alta  \n",
      "879    False   Mrs         0.162109         Alta  \n",
      "\n",
      "[112 rows x 18 columns]\n"
     ]
    }
   ],
   "source": [
    "# Utilizei o método do IQR (Interquartile Range) para identificar os outliers na coluna fare.\n",
    "# Calcular Q1 e Q3\n",
    "Q1 = df['Fare'].quantile(0.25)\n",
    "Q3 = df['Fare'].quantile(0.75)\n",
    "\n",
    "# Calcular o IQR\n",
    "IQR = Q3 - Q1\n",
    "\n",
    "# Definir os limites para outliers\n",
    "lower_bound = Q1 - 1.5 * IQR\n",
    "upper_bound = Q3 + 1.5 * IQR\n",
    "\n",
    "# Valores abaixo de 𝑄 1 − 1.5 × IQR Q1−1.5×IQR ou acima de 𝑄 3 + 1.5 × IQR Q3+1.5×IQR são geralmente considerados outliers.\n",
    "outliers = df[(df['Fare'] < lower_bound) | (df['Fare'] > upper_bound)]\n",
    "\n",
    "print(\"Limite Inferior:\", lower_bound)\n",
    "print(\"Limite Superior:\", upper_bound)\n",
    "print(\"\\nOutliers identificados:\")\n",
    "print(outliers)"
   ]
  },
  {
   "cell_type": "code",
   "execution_count": 44,
   "id": "27b792b2",
   "metadata": {},
   "outputs": [
    {
     "name": "stdout",
     "output_type": "stream",
     "text": [
      "Taxa de sobrevivência para passageiros sem parentes a bordo: 30.09%\n",
      "Taxa de sobrevivência geral: 38.25%\n"
     ]
    }
   ],
   "source": [
    "# Analise de sobrevivencia para passageiros sem parentes a bordo.\n",
    "passengers_no_family = df[df['FamilySize'] == 0]\n",
    "\n",
    "# Calcular a taxa de sobrevivência\n",
    "survival_rate_no_family = passengers_no_family['Survived'].mean() * 100\n",
    "\n",
    "print(f\"Taxa de sobrevivência para passageiros sem parentes a bordo: {survival_rate_no_family:.2f}%\")\n",
    "\n",
    "overall_survival_rate = df['Survived'].mean() * 100\n",
    "print(f\"Taxa de sobrevivência geral: {overall_survival_rate:.2f}%\")"
   ]
  },
  {
   "cell_type": "code",
   "execution_count": 45,
   "id": "22d2cf27",
   "metadata": {},
   "outputs": [
    {
     "name": "stdout",
     "output_type": "stream",
     "text": [
      "Taxa de sobrevivência para passageiros com cabine atribuída: 66.34%\n",
      "Taxa de sobrevivência para passageiros sem cabine atribuída: 29.99%\n"
     ]
    }
   ],
   "source": [
    "#Feito a comparação da taxa de sobrevivência entre passageiros com e sem cabines atribuídas.\n",
    "\n",
    "# Identificar passageiros com e sem cabines atribuídas\n",
    "df['HasCabin'] = df['Cabin'].notna()\n",
    "\n",
    "# Calcular a taxa de sobrevivência para passageiros com cabine\n",
    "survival_rate_with_cabin = df[df['HasCabin']]['Survived'].mean() * 100\n",
    "\n",
    "# O simbolo ~ é um operador de negação em pandas, utilizado para converter uma operação booleana\n",
    "survival_rate_without_cabin = df[~df['HasCabin']]['Survived'].mean() * 100\n",
    "\n",
    "print(f\"Taxa de sobrevivência para passageiros com cabine atribuída: {survival_rate_with_cabin:.2f}%\")\n",
    "print(f\"Taxa de sobrevivência para passageiros sem cabine atribuída: {survival_rate_without_cabin:.2f}%\")"
   ]
  },
  {
   "cell_type": "code",
   "execution_count": 46,
   "id": "72c421e9",
   "metadata": {
    "scrolled": true
   },
   "outputs": [
    {
     "data": {
      "image/png": "[encoded data removed]",
      "text/plain": [
       "<Figure size 800x500 with 1 Axes>"
      ]
     },
     "metadata": {},
     "output_type": "display_data"
    }
   ],
   "source": [
    "# Dados para visualização\n",
    "survival_rates = [survival_rate_with_cabin, survival_rate_without_cabin]\n",
    "labels = ['Com Cabine', 'Sem Cabine']\n",
    "\n",
    "plt.figure(figsize=(8, 5))\n",
    "plt.bar(labels, survival_rates, color=['lightblue', 'lightcoral'])\n",
    "plt.title('Taxa de Sobrevivência por Cabine')\n",
    "plt.ylabel('Taxa de Sobrevivência (%)')\n",
    "plt.ylim(0, 100)\n",
    "plt.show()"
   ]
  },
  {
   "cell_type": "markdown",
   "id": "9459781d",
   "metadata": {},
   "source": [
    "Por meio do gráfico Podemos ver que existe uma diferença clara de taxa de sobrevivencia para passageiros com cabine atribuida."
   ]
  },
  {
   "cell_type": "code",
   "execution_count": 47,
   "id": "700a6fc9",
   "metadata": {},
   "outputs": [
    {
     "data": {
      "image/png": "[encoded data removed]",
      "text/plain": [
       "<Figure size 1000x600 with 1 Axes>"
      ]
     },
     "metadata": {},
     "output_type": "display_data"
    }
   ],
   "source": [
    "# Agora vamos visualizar a distribuição de idades para cada categoria de 'Pclass' usando um gráfico de densidade.\n",
    "plt.figure(figsize=(10, 6))\n",
    "sns.kdeplot(data=df, x='Age', hue='Pclass', common_norm=False)\n",
    "\n",
    "# Adicionar título e labels\n",
    "plt.title('Distribuição de Idades por Categoria de Pclass')\n",
    "plt.xlabel('Idade')\n",
    "plt.ylabel('Densidade')\n",
    "\n",
    "plt.show()"
   ]
  },
  {
   "cell_type": "code",
   "execution_count": 48,
   "id": "222ba51a",
   "metadata": {},
   "outputs": [
    {
     "name": "stdout",
     "output_type": "stream",
     "text": [
      "   AgeGroup     Sex    Survived\n",
      "0      0-12  female   59.375000\n",
      "1      0-12    male   56.756757\n",
      "2     13-18  female   75.000000\n",
      "3     13-18    male    8.823529\n",
      "4     19-30  female   72.727273\n",
      "5     19-30    male   14.473684\n",
      "6     31-40  female   83.333333\n",
      "7     31-40    male   23.000000\n",
      "8     41-50  female   67.741935\n",
      "9     41-50    male   21.818182\n",
      "10    51-60  female   92.857143\n",
      "11    51-60    male   14.285714\n",
      "12      60+  female  100.000000\n",
      "13      60+    male   10.526316\n"
     ]
    }
   ],
   "source": [
    "# Criei um relatório com a taxa de sobrevivência por idade e sexo.\n",
    "bins = [0, 12, 18, 30, 40, 50, 60, 100]\n",
    "labels = ['0-12', '13-18', '19-30', '31-40', '41-50', '51-60', '60+']\n",
    "df['AgeGroup'] = pd.cut(df['Age'], bins=bins, labels=labels)\n",
    "\n",
    "# Calcular a taxa de sobrevivência por faixa etária e sexo\n",
    "survival_rate = df.groupby(['AgeGroup', 'Sex'])['Survived'].mean().reset_index()\n",
    "survival_rate['Survived'] = survival_rate['Survived'] * 100  # Converter para porcentagem\n",
    "\n",
    "print(survival_rate)"
   ]
  },
  {
   "cell_type": "code",
   "execution_count": 49,
   "id": "f179f7d9",
   "metadata": {
    "scrolled": false
   },
   "outputs": [
    {
     "data": {
      "image/png": "[encoded data removed]",
      "text/plain": [
       "<Figure size 1200x800 with 1 Axes>"
      ]
     },
     "metadata": {},
     "output_type": "display_data"
    }
   ],
   "source": [
    "# Aqui será o gráfico representando o relatório acima\n",
    "\n",
    "# Pivotando os dados para que cada sexo fique em colunas separadas\n",
    "pivot_data = survival_rate.pivot(index='AgeGroup', columns='Sex', values='Survived')\n",
    "\n",
    "# Criando as barras empilhadas com matplotlib\n",
    "pivot_data.plot(kind='bar', stacked=True, color=sns.color_palette('viridis', 2), figsize=(12, 8))\n",
    "\n",
    "# Adicionando título e labels\n",
    "plt.title('Taxa de Sobrevivência por Faixa Etária e Sexo')\n",
    "plt.xlabel('Faixa Etária')\n",
    "plt.ylabel('Taxa de Sobrevivência (%)')\n",
    "\n",
    "plt.legend(title='Sexo')\n",
    "plt.show()"
   ]
  },
  {
   "cell_type": "code",
   "execution_count": 50,
   "id": "59e140b5",
   "metadata": {},
   "outputs": [
    {
     "name": "stdout",
     "output_type": "stream",
     "text": [
      "Pclass      1    2    3\n",
      "Embarked               \n",
      "C          85   17   66\n",
      "Q           2    3   72\n",
      "S         127  164  353\n"
     ]
    }
   ],
   "source": [
    "# Agora faremos uma analise detalhada da relação entre o local de embarque e a classe socioeconômica dos passageiros.\n",
    "embarked_pclass_counts = df.groupby(['Embarked', 'Pclass']).size().unstack()\n",
    "\n",
    "print(embarked_pclass_counts)"
   ]
  },
  {
   "cell_type": "code",
   "execution_count": 51,
   "id": "5db0040a",
   "metadata": {},
   "outputs": [
    {
     "data": {
      "image/png": "[encoded data removed]",
      "text/plain": [
       "<Figure size 1000x600 with 1 Axes>"
      ]
     },
     "metadata": {},
     "output_type": "display_data"
    }
   ],
   "source": [
    "# Reformatar os dados para o formato longo para visualização\n",
    "long_df = df.melt(id_vars='Embarked', value_vars='Pclass', var_name='Class_Type', value_name='Pclass_Value')\n",
    "\n",
    "# Criar o gráfico de barras\n",
    "plt.figure(figsize=(10, 6))\n",
    "sns.countplot(data=long_df, x='Embarked', hue='Pclass_Value', palette='Set2')\n",
    "\n",
    "# Adicionar título e labels\n",
    "plt.title('Distribuição da Classe Socioeconômica por Local de Embarque')\n",
    "plt.xlabel('Local de Embarque')\n",
    "plt.ylabel('Número de Passageiros')\n",
    "\n",
    "plt.show()"
   ]
  },
  {
   "cell_type": "markdown",
   "id": "21857d26",
   "metadata": {},
   "source": [
    "Podemos ver que o local de embarque S foi o local que mais teve embarques em todas as classes. Isso acontece porque o embarque S é Southampton que é a maior cidade portuária da costa sul do Reino Unido e foi de lá que o titanic partiu em sua viagem."
   ]
  },
  {
   "cell_type": "code",
   "execution_count": 52,
   "id": "fd118727",
   "metadata": {},
   "outputs": [],
   "source": [
    "# Agora vamos exportar o arquivo no formato csv\n",
    "\n",
    "df.to_csv('titanic_final.csv', index=False)\n"
   ]
  },
  {
   "cell_type": "code",
   "execution_count": null,
   "id": "2f131e41",
   "metadata": {},
   "outputs": [],
   "source": []
  }
 ],
 "metadata": {
  "kernelspec": {
   "display_name": "Python 3 (ipykernel)",
   "language": "python",
   "name": "python3"
  },
  "language_info": {
   "codemirror_mode": {
    "name": "ipython",
    "version": 3
   },
   "file_extension": ".py",
   "mimetype": "text/x-python",
   "name": "python",
   "nbconvert_exporter": "python",
   "pygments_lexer": "ipython3",
   "version": "3.9.13"
  }
 },
 "nbformat": 4,
 "nbformat_minor": 5
}
